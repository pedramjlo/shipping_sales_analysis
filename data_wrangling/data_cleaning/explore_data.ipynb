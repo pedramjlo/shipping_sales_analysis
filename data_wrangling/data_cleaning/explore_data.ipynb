{
 "cells": [
  {
   "cell_type": "code",
   "execution_count": 2,
   "id": "fa495e77-80df-4457-9088-76e27bf40192",
   "metadata": {},
   "outputs": [],
   "source": [
    "import pandas as pd"
   ]
  },
  {
   "cell_type": "code",
   "execution_count": 3,
   "id": "20c0856c-03e5-47d3-a900-b79438486993",
   "metadata": {},
   "outputs": [],
   "source": [
    "dataset = \"../../dataset/raw/sales_data.csv\"\n",
    "df = pd.read_csv(dataset)"
   ]
  },
  {
   "cell_type": "code",
   "execution_count": 4,
   "id": "93a4e125-21be-49d0-89e3-9427e0428d02",
   "metadata": {},
   "outputs": [
    {
     "data": {
      "text/plain": [
       "Index(['Row ID', 'Order ID', 'Order Date', 'Ship Date', 'Ship Mode',\n",
       "       'Customer ID', 'Customer Name', 'Segment', 'Country', 'City', 'State',\n",
       "       'Postal Code', 'Region', 'Product ID', 'Category', 'Sub-Category',\n",
       "       'Product Name', 'Sales'],\n",
       "      dtype='object')"
      ]
     },
     "execution_count": 4,
     "metadata": {},
     "output_type": "execute_result"
    }
   ],
   "source": [
    "df.columns"
   ]
  },
  {
   "cell_type": "code",
   "execution_count": 5,
   "id": "d6aa9f02-c38a-4ad6-92a1-43dfe29f92f7",
   "metadata": {},
   "outputs": [
    {
     "data": {
      "text/plain": [
       "array(['Furniture', 'Office Supplies', 'Technology'], dtype=object)"
      ]
     },
     "execution_count": 5,
     "metadata": {},
     "output_type": "execute_result"
    }
   ],
   "source": [
    "df[\"Category\"].unique()"
   ]
  },
  {
   "cell_type": "code",
   "execution_count": 6,
   "id": "13955f70-2308-4917-a743-ea7a27805222",
   "metadata": {},
   "outputs": [
    {
     "data": {
      "text/plain": [
       "array(['Bookcases', 'Chairs', 'Labels', 'Tables', 'Storage',\n",
       "       'Furnishings', 'Art', 'Phones', 'Binders', 'Appliances', 'Paper',\n",
       "       'Accessories', 'Envelopes', 'Fasteners', 'Supplies', 'Machines',\n",
       "       'Copiers'], dtype=object)"
      ]
     },
     "execution_count": 6,
     "metadata": {},
     "output_type": "execute_result"
    }
   ],
   "source": [
    "df[\"Sub-Category\"].unique()"
   ]
  },
  {
   "cell_type": "code",
   "execution_count": 7,
   "id": "984c9e6b-8040-4105-8c99-4708bb2878d9",
   "metadata": {},
   "outputs": [
    {
     "data": {
      "text/plain": [
       "array(['Second Class', 'Standard Class', 'First Class', 'Same Day'],\n",
       "      dtype=object)"
      ]
     },
     "execution_count": 7,
     "metadata": {},
     "output_type": "execute_result"
    }
   ],
   "source": [
    "df[\"Ship Mode\"].unique()"
   ]
  },
  {
   "cell_type": "code",
   "execution_count": 8,
   "id": "ca310cc0-dfb2-4aeb-8382-31b9bf873d34",
   "metadata": {},
   "outputs": [
    {
     "data": {
      "text/plain": [
       "array(['Consumer', 'Corporate', 'Home Office'], dtype=object)"
      ]
     },
     "execution_count": 8,
     "metadata": {},
     "output_type": "execute_result"
    }
   ],
   "source": [
    "df[\"Segment\"].unique()"
   ]
  },
  {
   "cell_type": "code",
   "execution_count": 9,
   "id": "6c7c0057-7562-4ede-8f07-a1acfefc19f8",
   "metadata": {},
   "outputs": [
    {
     "data": {
      "text/plain": [
       "array(['South', 'West', 'Central', 'East'], dtype=object)"
      ]
     },
     "execution_count": 9,
     "metadata": {},
     "output_type": "execute_result"
    }
   ],
   "source": [
    "df[\"Region\"].unique()"
   ]
  },
  {
   "cell_type": "code",
   "execution_count": 10,
   "id": "bdceffc9-3eba-4b9d-bc85-071cc552559e",
   "metadata": {},
   "outputs": [
    {
     "data": {
      "text/plain": [
       "4922"
      ]
     },
     "execution_count": 10,
     "metadata": {},
     "output_type": "execute_result"
    }
   ],
   "source": [
    "len(df[\"Order ID\"].unique())"
   ]
  },
  {
   "cell_type": "code",
   "execution_count": 11,
   "id": "020dea2b-9448-4e75-a83b-13fca7c45af5",
   "metadata": {},
   "outputs": [
    {
     "data": {
      "text/plain": [
       "array(['Bush Somerset Collection Bookcase',\n",
       "       'Hon Deluxe Fabric Upholstered Stacking Chairs, Rounded Back',\n",
       "       'Self-Adhesive Address Labels for Typewriters by Universal', ...,\n",
       "       'Cisco 8961 IP Phone Charcoal', 'Eureka Hand Vacuum, Bagless',\n",
       "       'LG G2'], shape=(1849,), dtype=object)"
      ]
     },
     "execution_count": 11,
     "metadata": {},
     "output_type": "execute_result"
    }
   ],
   "source": [
    "df[\"Product Name\"].unique()"
   ]
  },
  {
   "cell_type": "code",
   "execution_count": 12,
   "id": "e4216ad5-cca2-4496-abaf-71d8b147b2f0",
   "metadata": {},
   "outputs": [
    {
     "data": {
      "text/plain": [
       "1849"
      ]
     },
     "execution_count": 12,
     "metadata": {},
     "output_type": "execute_result"
    }
   ],
   "source": [
    "len(df[\"Product Name\"].unique())"
   ]
  },
  {
   "cell_type": "code",
   "execution_count": 13,
   "id": "af1e5df4-6395-4901-9f48-e51a6da01cf8",
   "metadata": {},
   "outputs": [
    {
     "data": {
      "text/plain": [
       "np.int64(0)"
      ]
     },
     "execution_count": 13,
     "metadata": {},
     "output_type": "execute_result"
    }
   ],
   "source": [
    "pd.isna(df[\"Product Name\"]).sum()"
   ]
  },
  {
   "cell_type": "code",
   "execution_count": 14,
   "id": "b219cab2-bfd6-4f59-bd44-1a01ae6d6fa1",
   "metadata": {},
   "outputs": [
    {
     "data": {
      "text/plain": [
       "np.int64(0)"
      ]
     },
     "execution_count": 14,
     "metadata": {},
     "output_type": "execute_result"
    }
   ],
   "source": [
    "pd.isna(df[\"State\"]).sum()"
   ]
  },
  {
   "cell_type": "code",
   "execution_count": 15,
   "id": "53db2471-223d-4eea-8517-73714e2f693a",
   "metadata": {},
   "outputs": [
    {
     "data": {
      "text/plain": [
       "np.int64(0)"
      ]
     },
     "execution_count": 15,
     "metadata": {},
     "output_type": "execute_result"
    }
   ],
   "source": [
    "pd.isna(df[\"Segment\"]).sum()"
   ]
  },
  {
   "cell_type": "code",
   "execution_count": 16,
   "id": "af1ebf63-d8fe-4882-81bd-b6290599bab1",
   "metadata": {},
   "outputs": [
    {
     "data": {
      "text/plain": [
       "Category\n",
       "Furniture                   [Bookcases, Chairs, Tables, Furnishings]\n",
       "Office Supplies    [Labels, Storage, Art, Binders, Appliances, Pa...\n",
       "Technology                  [Phones, Accessories, Machines, Copiers]\n",
       "Name: Sub-Category, dtype: object"
      ]
     },
     "execution_count": 16,
     "metadata": {},
     "output_type": "execute_result"
    }
   ],
   "source": [
    "df.groupby(\"Category\")[\"Sub-Category\"].unique()"
   ]
  },
  {
   "cell_type": "code",
   "execution_count": 17,
   "id": "323ea7aa-b7ef-4aa6-ab70-4e9dafbac05c",
   "metadata": {},
   "outputs": [
    {
     "data": {
      "text/plain": [
       "array(['Henderson', 'Los Angeles', 'Fort Lauderdale', 'Concord',\n",
       "       'Seattle', 'Fort Worth', 'Madison', 'West Jordan', 'San Francisco',\n",
       "       'Fremont', 'Philadelphia', 'Orem', 'Houston', 'Richardson',\n",
       "       'Naperville', 'Melbourne', 'Eagan', 'Westland', 'Dover',\n",
       "       'New Albany', 'New York City', 'Troy', 'Chicago', 'Gilbert',\n",
       "       'Springfield', 'Jackson', 'Memphis', 'Decatur', 'Durham',\n",
       "       'Columbia', 'Rochester', 'Minneapolis', 'Portland', 'Saint Paul',\n",
       "       'Aurora', 'Charlotte', 'Orland Park', 'Urbandale', 'Columbus',\n",
       "       'Bristol', 'Wilmington', 'Bloomington', 'Phoenix', 'Roseville',\n",
       "       'Independence', 'Pasadena', 'Newark', 'Franklin', 'Scottsdale',\n",
       "       'San Jose', 'Edmond', 'Carlsbad', 'San Antonio', 'Monroe',\n",
       "       'Fairfield', 'Grand Prairie', 'Redlands', 'Hamilton', 'Westfield',\n",
       "       'Akron', 'Denver', 'Dallas', 'Whittier', 'Saginaw', 'Medina',\n",
       "       'Dublin', 'Detroit', 'Tampa', 'Santa Clara', 'Lakeville',\n",
       "       'San Diego', 'Brentwood', 'Chapel Hill', 'Morristown',\n",
       "       'Cincinnati', 'Inglewood', 'Tamarac', 'Colorado Springs',\n",
       "       'Belleville', 'Taylor', 'Lakewood', 'Arlington', 'Arvada',\n",
       "       'Hackensack', 'Saint Petersburg', 'Long Beach', 'Hesperia',\n",
       "       'Murfreesboro', 'Layton', 'Austin', 'Lowell', 'Manchester',\n",
       "       'Harlingen', 'Tucson', 'Quincy', 'Pembroke Pines', 'Des Moines',\n",
       "       'Peoria', 'Las Vegas', 'Warwick', 'Miami', 'Huntington Beach',\n",
       "       'Richmond', 'Louisville', 'Lawrence', 'Canton', 'New Rochelle',\n",
       "       'Gastonia', 'Jacksonville', 'Auburn', 'Norman', 'Park Ridge',\n",
       "       'Amarillo', 'Lindenhurst', 'Huntsville', 'Fayetteville',\n",
       "       'Costa Mesa', 'Parker', 'Atlanta', 'Gladstone', 'Great Falls',\n",
       "       'Lakeland', 'Montgomery', 'Mesa', 'Green Bay', 'Anaheim',\n",
       "       'Marysville', 'Salem', 'Laredo', 'Grove City', 'Dearborn',\n",
       "       'Warner Robins', 'Vallejo', 'Mission Viejo', 'Rochester Hills',\n",
       "       'Plainfield', 'Sierra Vista', 'Vancouver', 'Cleveland', 'Tyler',\n",
       "       'Burlington', 'Waynesboro', 'Chester', 'Cary', 'Palm Coast',\n",
       "       'Mount Vernon', 'Hialeah', 'Oceanside', 'Evanston', 'Trenton',\n",
       "       'Cottage Grove', 'Bossier City', 'Lancaster', 'Asheville',\n",
       "       'Lake Elsinore', 'Omaha', 'Edmonds', 'Santa Ana', 'Milwaukee',\n",
       "       'Florence', 'Lorain', 'Linden', 'Salinas', 'New Brunswick',\n",
       "       'Garland', 'Norwich', 'Alexandria', 'Toledo', 'Farmington',\n",
       "       'Riverside', 'Torrance', 'Round Rock', 'Boca Raton',\n",
       "       'Virginia Beach', 'Murrieta', 'Olympia', 'Washington',\n",
       "       'Jefferson City', 'Saint Peters', 'Rockford', 'Brownsville',\n",
       "       'Yonkers', 'Oakland', 'Clinton', 'Encinitas', 'Roswell',\n",
       "       'Jonesboro', 'Antioch', 'Homestead', 'La Porte', 'Lansing',\n",
       "       'Cuyahoga Falls', 'Reno', 'Harrisonburg', 'Escondido', 'Royal Oak',\n",
       "       'Rockville', 'Coral Springs', 'Buffalo', 'Boynton Beach',\n",
       "       'Gulfport', 'Fresno', 'Greenville', 'Macon', 'Cedar Rapids',\n",
       "       'Providence', 'Pueblo', 'Deltona', 'Murray', 'Middletown',\n",
       "       'Freeport', 'Pico Rivera', 'Provo', 'Pleasant Grove', 'Smyrna',\n",
       "       'Parma', 'Mobile', 'New Bedford', 'Irving', 'Vineland', 'Glendale',\n",
       "       'Niagara Falls', 'Thomasville', 'Westminster', 'Coppell', 'Pomona',\n",
       "       'North Las Vegas', 'Allentown', 'Tempe', 'Laguna Niguel',\n",
       "       'Bridgeton', 'Everett', 'Watertown', 'Appleton', 'Bellevue',\n",
       "       'Allen', 'El Paso', 'Grapevine', 'Carrollton', 'Kent', 'Lafayette',\n",
       "       'Tigard', 'Skokie', 'Plano', 'Suffolk', 'Indianapolis', 'Bayonne',\n",
       "       'Greensboro', 'Baltimore', 'Kenosha', 'Olathe', 'Tulsa', 'Redmond',\n",
       "       'Raleigh', 'Muskogee', 'Meriden', 'Bowling Green', 'South Bend',\n",
       "       'Spokane', 'Keller', 'Port Orange', 'Medford', 'Charlottesville',\n",
       "       'Missoula', 'Apopka', 'Reading', 'Broomfield', 'Paterson',\n",
       "       'Oklahoma City', 'Chesapeake', 'Lubbock', 'Johnson City',\n",
       "       'San Bernardino', 'Leominster', 'Bozeman', 'Perth Amboy',\n",
       "       'Ontario', 'Rancho Cucamonga', 'Moorhead', 'Mesquite', 'Stockton',\n",
       "       'Ormond Beach', 'Sunnyvale', 'York', 'College Station',\n",
       "       'Saint Louis', 'Manteca', 'San Angelo', 'Salt Lake City',\n",
       "       'Knoxville', 'Little Rock', 'Lincoln Park', 'Marion', 'Littleton',\n",
       "       'Bangor', 'Southaven', 'New Castle', 'Midland', 'Sioux Falls',\n",
       "       'Fort Collins', 'Clarksville', 'Sacramento', 'Thousand Oaks',\n",
       "       'Malden', 'Holyoke', 'Albuquerque', 'Sparks', 'Coachella',\n",
       "       'Elmhurst', 'Passaic', 'North Charleston', 'Newport News',\n",
       "       'Jamestown', 'Mishawaka', 'La Quinta', 'Tallahassee', 'Nashville',\n",
       "       'Bellingham', 'Woodstock', 'Haltom City', 'Wheeling',\n",
       "       'Summerville', 'Hot Springs', 'Englewood', 'Las Cruces', 'Hoover',\n",
       "       'Frisco', 'Vacaville', 'Waukesha', 'Bakersfield', 'Pompano Beach',\n",
       "       'Corpus Christi', 'Redondo Beach', 'Orlando', 'Orange',\n",
       "       'Lake Charles', 'Highland Park', 'Hempstead', 'Noblesville',\n",
       "       'Apple Valley', 'Mount Pleasant', 'Sterling Heights', 'Eau Claire',\n",
       "       'Pharr', 'Billings', 'Gresham', 'Chattanooga', 'Meridian',\n",
       "       'Bolingbrook', 'Maple Grove', 'Woodland', 'Missouri City',\n",
       "       'Pearland', 'San Mateo', 'Grand Rapids', 'Visalia',\n",
       "       'Overland Park', 'Temecula', 'Yucaipa', 'Revere', 'Conroe',\n",
       "       'Tinley Park', 'Dubuque', 'Dearborn Heights', 'Santa Fe',\n",
       "       'Hickory', 'Carol Stream', 'Saint Cloud', 'North Miami',\n",
       "       'Plantation', 'Port Saint Lucie', 'Rock Hill', 'Odessa',\n",
       "       'West Allis', 'Chula Vista', 'Manhattan', 'Altoona', 'Thornton',\n",
       "       'Champaign', 'Texarkana', 'Edinburg', 'Baytown', 'Greenwood',\n",
       "       'Woonsocket', 'Superior', 'Bedford', 'Covington', 'Broken Arrow',\n",
       "       'Miramar', 'Hollywood', 'Deer Park', 'Wichita', 'Mcallen',\n",
       "       'Iowa City', 'Boise', 'Cranston', 'Port Arthur', 'Citrus Heights',\n",
       "       'The Colony', 'Daytona Beach', 'Bullhead City', 'Portage', 'Fargo',\n",
       "       'Elkhart', 'San Gabriel', 'Margate', 'Sandy Springs', 'Mentor',\n",
       "       'Lawton', 'Hampton', 'Rome', 'La Crosse', 'Lewiston',\n",
       "       'Hattiesburg', 'Danville', 'Logan', 'Waterbury', 'Athens',\n",
       "       'Avondale', 'Marietta', 'Yuma', 'Wausau', 'Pasco', 'Oak Park',\n",
       "       'Pensacola', 'League City', 'Gaithersburg', 'Lehi', 'Tuscaloosa',\n",
       "       'Moreno Valley', 'Georgetown', 'Loveland', 'Chandler', 'Helena',\n",
       "       'Kirkwood', 'Waco', 'Frankfort', 'Bethlehem', 'Grand Island',\n",
       "       'Woodbury', 'Rogers', 'Clovis', 'Jupiter', 'Santa Barbara',\n",
       "       'Cedar Hill', 'Norfolk', 'Draper', 'Ann Arbor', 'La Mesa',\n",
       "       'Pocatello', 'Holland', 'Milford', 'Buffalo Grove', 'Lake Forest',\n",
       "       'Redding', 'Chico', 'Utica', 'Conway', 'Cheyenne', 'Owensboro',\n",
       "       'Caldwell', 'Kenner', 'Nashua', 'Bartlett', 'Redwood City',\n",
       "       'Lebanon', 'Santa Maria', 'Des Plaines', 'Longview',\n",
       "       'Hendersonville', 'Waterloo', 'Cambridge', 'Palatine', 'Beverly',\n",
       "       'Eugene', 'Oxnard', 'Renton', 'Glenview', 'Delray Beach',\n",
       "       'Commerce City', 'Texas City', 'Wilson', 'Rio Rancho', 'Goldsboro',\n",
       "       'Montebello', 'El Cajon', 'Beaumont', 'West Palm Beach', 'Abilene',\n",
       "       'Normal', 'Saint Charles', 'Camarillo', 'Hillsboro', 'Burbank',\n",
       "       'Modesto', 'Garden City', 'Atlantic City', 'Longmont', 'Davis',\n",
       "       'Morgan Hill', 'Clifton', 'Sheboygan', 'East Point', 'Rapid City',\n",
       "       'Andover', 'Kissimmee', 'Shelton', 'Danbury', 'Sanford',\n",
       "       'San Marcos', 'Greeley', 'Mansfield', 'Elyria', 'Twin Falls',\n",
       "       'Coral Gables', 'Romeoville', 'Marlborough', 'Laurel', 'Bryan',\n",
       "       'Pine Bluff', 'Aberdeen', 'Hagerstown', 'East Orange',\n",
       "       'Arlington Heights', 'Oswego', 'Coon Rapids', 'San Clemente',\n",
       "       'San Luis Obispo', 'Springdale'], dtype=object)"
      ]
     },
     "execution_count": 17,
     "metadata": {},
     "output_type": "execute_result"
    }
   ],
   "source": [
    "df[\"City\"].unique()"
   ]
  },
  {
   "cell_type": "code",
   "execution_count": 18,
   "id": "b79b6211-340d-41e4-a151-2c71ba1250e6",
   "metadata": {},
   "outputs": [
    {
     "data": {
      "text/plain": [
       "np.int64(0)"
      ]
     },
     "execution_count": 18,
     "metadata": {},
     "output_type": "execute_result"
    }
   ],
   "source": [
    "pd.isna(df[\"Customer Name\"]).sum()"
   ]
  },
  {
   "cell_type": "code",
   "execution_count": 19,
   "id": "8122a0b2-d81e-4d53-9b9d-db9f9c26446e",
   "metadata": {},
   "outputs": [
    {
     "data": {
      "text/plain": [
       "np.float64(12.983482865034615)"
      ]
     },
     "execution_count": 19,
     "metadata": {},
     "output_type": "execute_result"
    }
   ],
   "source": [
    "df[\"Sales\"].skew()"
   ]
  },
  {
   "cell_type": "code",
   "execution_count": 21,
   "id": "ed100c57",
   "metadata": {},
   "outputs": [
    {
     "data": {
      "text/plain": [
       "array(['Consumer', 'Corporate', 'Home Office'], dtype=object)"
      ]
     },
     "execution_count": 21,
     "metadata": {},
     "output_type": "execute_result"
    }
   ],
   "source": [
    "df[\"Segment\"].unique()"
   ]
  },
  {
   "cell_type": "code",
   "execution_count": 28,
   "id": "445418c2",
   "metadata": {},
   "outputs": [
    {
     "data": {
      "text/plain": [
       "array([42420., 90036., 33311., 90032., 28027., 98103., 76106., 53711.,\n",
       "       84084., 94109., 68025., 19140., 84057., 90049., 77095., 75080.,\n",
       "       77041., 60540., 32935., 55122., 48185., 19901., 47150., 10024.,\n",
       "       12180., 90004., 60610., 85234., 22153., 10009., 49201., 38109.,\n",
       "       77070., 35601., 94122., 27707., 60623., 29203., 55901., 55407.,\n",
       "       97206., 55106., 80013., 28205., 60462., 10035., 50322., 43229.,\n",
       "       37620., 19805., 61701., 85023., 95661., 64055., 91104., 43055.,\n",
       "       53132., 85254., 95123., 98105., 98115., 73034., 90045., 19134.,\n",
       "       88220., 78207., 77036., 62521., 71203.,  6824., 75051., 92374.,\n",
       "       45011.,  7090., 19120., 44312., 80219., 75220., 37064., 90604.,\n",
       "       48601., 44256., 43017., 48227., 38401., 33614., 95051., 55044.,\n",
       "       92037., 77506., 94513., 27514.,  7960., 45231., 94110., 90301.,\n",
       "       33319., 80906.,  7109., 48180.,  8701., 22204., 80004.,  7601.,\n",
       "       33710., 19143., 90805., 92345., 37130., 84041., 78745.,  1852.,\n",
       "       31907.,  6040., 78550., 85705., 62301.,  2038., 33024., 98198.,\n",
       "       61604., 89115.,  2886., 33180., 28403., 92646., 40475., 80027.,\n",
       "        1841., 39212., 48187., 10801., 28052., 32216., 47201., 13021.,\n",
       "       73071., 94521., 60068., 79109., 11757., 90008., 92024., 77340.,\n",
       "       14609., 72701., 92627., 80134., 30318., 64118., 59405., 48234.,\n",
       "       33801., 36116., 85204., 60653., 54302., 45503., 92804., 98270.,\n",
       "       97301., 78041., 75217., 43123., 10011., 48126., 31088., 94591.,\n",
       "       92691., 48307.,  7060., 85635., 98661., 60505., 76017., 40214.,\n",
       "       75081., 44105., 75701., 27217., 22980., 19013., 27511., 32137.,\n",
       "       10550., 48205., 33012., 11572., 92105., 60201., 48183., 55016.,\n",
       "       71111., 50315., 93534., 23223., 28806., 92530., 68104., 98026.,\n",
       "       92704., 53209., 41042., 44052.,  7036., 93905.,  8901., 17602.,\n",
       "        3301., 21044., 75043.,  6360., 22304., 43615., 87401., 92503.,\n",
       "       90503., 78664., 92054., 33433., 23464., 92563., 28540., 52601.,\n",
       "       98502., 20016., 65109., 63376., 61107., 33142., 78521., 10701.,\n",
       "       94601., 28110., 20735., 30076., 72401., 47374., 94509., 33030.,\n",
       "       46350., 48911., 44221., 89502., 22801., 92025., 48073., 20852.,\n",
       "       33065., 14215., 33437., 39503., 93727., 27834., 11561., 35630.,\n",
       "       31204., 52402.,  2908., 81001., 94533., 32725., 42071.,  6457.,\n",
       "       11520., 90660., 84604., 84062., 30080., 24153., 44134., 36608.,\n",
       "        2740., 75061.,  8360., 85301., 14304., 27360., 92683., 38301.,\n",
       "       75019., 91767., 89031., 18103., 19711., 85281., 92677.,  8302.,\n",
       "        2149., 13601., 54915., 98006., 75002., 79907., 76051., 75007.,\n",
       "       37167., 98031., 70506., 97224., 60076., 75023., 23434., 46203.,\n",
       "        7002., 28314., 27405., 21215., 53142., 66062., 98002., 74133.,\n",
       "       97756., 27604., 74403.,  6450., 42104., 46614.,  6010., 89015.,\n",
       "       99207., 76248., 45014., 32127., 97504., 22901., 59801., 33178.,\n",
       "       29501., 97477., 32712., 19601., 80020., 65807.,  7501., 73120.,\n",
       "       23320., 79424., 65203., 37604., 36830., 92404.,  1453., 59715.,\n",
       "       85345., 44107.,  8861., 91761., 91730., 56560., 75150., 95207.,\n",
       "       32174., 94086.,  3820., 17403., 77840., 63116.,  2169., 95336.,\n",
       "       44240., 76903., 84106., 35810., 37918., 72209., 48146., 43302.,\n",
       "       80122.,    nan,  4401., 38671., 47362., 48640., 57103., 80525.,\n",
       "       47905., 37042., 95823., 91360.,  2148.,  1040., 87105., 89431.,\n",
       "       92236., 60126.,  7055., 29406., 23602., 14701., 46544., 43402.,\n",
       "       92253., 32303., 37211., 98226., 60098., 76117., 60090., 29483.,\n",
       "       71901., 80112., 43130., 88001., 35244., 75034., 95687., 84107.,\n",
       "       53186., 93309., 33068., 45373., 78415., 90278., 32839.,  7050.,\n",
       "       70601., 60035., 11550., 46060., 55124., 29464., 48310., 54703.,\n",
       "       78577., 59102., 97030., 37421., 83642., 92307., 60440., 55369.,\n",
       "       95695., 77489., 77581., 94403., 49505., 93277., 66212., 92592.,\n",
       "       92399.,  2151., 77301., 60477., 52001., 48127., 87505., 28601.,\n",
       "       60188., 56301., 33161., 46226., 33317., 34952., 29730., 79762.,\n",
       "       53214., 91911., 66502., 16602., 80229., 61821., 47401., 71854.,\n",
       "       78539., 77520., 46142., 90712.,  2895., 54880., 76021., 98042.,\n",
       "       74012., 33023., 33021., 77536., 67212., 78501., 52240., 83704.,\n",
       "        2920., 61032., 77642., 95610., 75056., 98052., 32114., 86442.,\n",
       "       46368., 58103., 46514., 91776., 33063., 30328., 44060., 73505.,\n",
       "       23666., 13440., 54601., 83501., 39401., 94526., 48858., 84321.,\n",
       "        6708., 30605.,  4240., 61832., 85323., 30062., 85364., 54401.,\n",
       "       99301., 60302., 32503., 77573., 20877., 84043., 35401., 92553.,\n",
       "       40324., 80538., 85224., 59601., 63122., 76706., 48066., 60423.,\n",
       "       18018., 55113., 68801., 55125., 48237., 72756., 88101., 33458.,\n",
       "       93101., 75104., 68701., 84020., 48104., 91941., 83201., 49423.,\n",
       "        6460., 60089., 92630., 96003., 95928., 13501., 72032., 82001.,\n",
       "       42301., 83605., 70065.,  3060., 38134., 94061., 37087., 93454.,\n",
       "       60016., 98632., 37075., 50701.,  2138., 60067.,  1915., 97405.,\n",
       "       93030., 98059., 60025., 33445., 80022., 77590., 27893., 87124.,\n",
       "       27534., 98208., 90640., 92020., 77705., 33407., 79605., 61761.,\n",
       "       63301., 60174., 93010., 97123., 91505., 95351., 67846.,  8401.,\n",
       "       80501., 95616., 26003., 95037.,  7011., 53081., 30344., 57701.,\n",
       "        1810., 34741.,  6484.,  6810., 52302., 32771., 78666., 80634.,\n",
       "       76063., 44035., 83301., 33134., 60441.,  1752., 20707., 77803.,\n",
       "       71603., 57401., 21740.,  7017., 60004., 60543., 55433., 92672.,\n",
       "       94568., 93405., 72762.])"
      ]
     },
     "execution_count": 28,
     "metadata": {},
     "output_type": "execute_result"
    }
   ],
   "source": [
    "df[\"Postal Code\"].unique()"
   ]
  },
  {
   "cell_type": "code",
   "execution_count": 23,
   "id": "46579d79",
   "metadata": {},
   "outputs": [
    {
     "data": {
      "text/plain": [
       "Row ID             int64\n",
       "Order ID          object\n",
       "Order Date        object\n",
       "Ship Date         object\n",
       "Ship Mode         object\n",
       "Customer ID       object\n",
       "Customer Name     object\n",
       "Segment           object\n",
       "Country           object\n",
       "City              object\n",
       "State             object\n",
       "Postal Code      float64\n",
       "Region            object\n",
       "Product ID        object\n",
       "Category          object\n",
       "Sub-Category      object\n",
       "Product Name      object\n",
       "Sales            float64\n",
       "dtype: object"
      ]
     },
     "execution_count": 23,
     "metadata": {},
     "output_type": "execute_result"
    }
   ],
   "source": [
    "df.dtypes"
   ]
  }
 ],
 "metadata": {
  "kernelspec": {
   "display_name": ".venv",
   "language": "python",
   "name": "python3"
  },
  "language_info": {
   "codemirror_mode": {
    "name": "ipython",
    "version": 3
   },
   "file_extension": ".py",
   "mimetype": "text/x-python",
   "name": "python",
   "nbconvert_exporter": "python",
   "pygments_lexer": "ipython3",
   "version": "3.12.7"
  }
 },
 "nbformat": 4,
 "nbformat_minor": 5
}
